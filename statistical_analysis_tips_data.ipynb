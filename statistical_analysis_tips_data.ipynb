{
 "cells": [
  {
   "cell_type": "code",
   "execution_count": 1,
   "id": "92792387",
   "metadata": {},
   "outputs": [],
   "source": [
    "#importing libraries\n",
    "import seaborn as sns\n",
    "import matplotlib.pyplot as plt\n",
    "import statsmodels.api as sm\n",
    "import pandas as pd\n",
    "import numpy as np\n",
    "from scipy import stats"
   ]
  },
  {
   "cell_type": "code",
   "execution_count": 3,
   "id": "73663e8f",
   "metadata": {},
   "outputs": [],
   "source": [
    "#loading the tips dataset\n",
    "tips_df = sns.load_dataset('tips')"
   ]
  },
  {
   "cell_type": "code",
   "execution_count": 4,
   "id": "99ccfc4b",
   "metadata": {},
   "outputs": [
    {
     "data": {
      "text/html": [
       "<div>\n",
       "<style scoped>\n",
       "    .dataframe tbody tr th:only-of-type {\n",
       "        vertical-align: middle;\n",
       "    }\n",
       "\n",
       "    .dataframe tbody tr th {\n",
       "        vertical-align: top;\n",
       "    }\n",
       "\n",
       "    .dataframe thead th {\n",
       "        text-align: right;\n",
       "    }\n",
       "</style>\n",
       "<table border=\"1\" class=\"dataframe\">\n",
       "  <thead>\n",
       "    <tr style=\"text-align: right;\">\n",
       "      <th></th>\n",
       "      <th>total_bill</th>\n",
       "      <th>tip</th>\n",
       "      <th>sex</th>\n",
       "      <th>smoker</th>\n",
       "      <th>day</th>\n",
       "      <th>time</th>\n",
       "      <th>size</th>\n",
       "    </tr>\n",
       "  </thead>\n",
       "  <tbody>\n",
       "    <tr>\n",
       "      <th>0</th>\n",
       "      <td>16.99</td>\n",
       "      <td>1.01</td>\n",
       "      <td>Female</td>\n",
       "      <td>No</td>\n",
       "      <td>Sun</td>\n",
       "      <td>Dinner</td>\n",
       "      <td>2</td>\n",
       "    </tr>\n",
       "    <tr>\n",
       "      <th>1</th>\n",
       "      <td>10.34</td>\n",
       "      <td>1.66</td>\n",
       "      <td>Male</td>\n",
       "      <td>No</td>\n",
       "      <td>Sun</td>\n",
       "      <td>Dinner</td>\n",
       "      <td>3</td>\n",
       "    </tr>\n",
       "    <tr>\n",
       "      <th>2</th>\n",
       "      <td>21.01</td>\n",
       "      <td>3.50</td>\n",
       "      <td>Male</td>\n",
       "      <td>No</td>\n",
       "      <td>Sun</td>\n",
       "      <td>Dinner</td>\n",
       "      <td>3</td>\n",
       "    </tr>\n",
       "    <tr>\n",
       "      <th>3</th>\n",
       "      <td>23.68</td>\n",
       "      <td>3.31</td>\n",
       "      <td>Male</td>\n",
       "      <td>No</td>\n",
       "      <td>Sun</td>\n",
       "      <td>Dinner</td>\n",
       "      <td>2</td>\n",
       "    </tr>\n",
       "    <tr>\n",
       "      <th>4</th>\n",
       "      <td>24.59</td>\n",
       "      <td>3.61</td>\n",
       "      <td>Female</td>\n",
       "      <td>No</td>\n",
       "      <td>Sun</td>\n",
       "      <td>Dinner</td>\n",
       "      <td>4</td>\n",
       "    </tr>\n",
       "  </tbody>\n",
       "</table>\n",
       "</div>"
      ],
      "text/plain": [
       "   total_bill   tip     sex smoker  day    time  size\n",
       "0       16.99  1.01  Female     No  Sun  Dinner     2\n",
       "1       10.34  1.66    Male     No  Sun  Dinner     3\n",
       "2       21.01  3.50    Male     No  Sun  Dinner     3\n",
       "3       23.68  3.31    Male     No  Sun  Dinner     2\n",
       "4       24.59  3.61  Female     No  Sun  Dinner     4"
      ]
     },
     "execution_count": 4,
     "metadata": {},
     "output_type": "execute_result"
    }
   ],
   "source": [
    "#viewing the first five rows of the tips_df\n",
    "tips_df.head()"
   ]
  },
  {
   "cell_type": "code",
   "execution_count": 5,
   "id": "5dfdc88a",
   "metadata": {},
   "outputs": [
    {
     "name": "stdout",
     "output_type": "stream",
     "text": [
      "total_bill    0\n",
      "tip           0\n",
      "sex           0\n",
      "smoker        0\n",
      "day           0\n",
      "time          0\n",
      "size          0\n",
      "dtype: int64\n"
     ]
    }
   ],
   "source": [
    "#checking for missing values in the tips_df\n",
    "print(tips_df.isnull().sum())"
   ]
  },
  {
   "cell_type": "markdown",
   "id": "e5de7bbc",
   "metadata": {},
   "source": [
    "#### There are no missing values in any of the columns of the tips_df as shown above"
   ]
  },
  {
   "cell_type": "code",
   "execution_count": 10,
   "id": "91a5441e",
   "metadata": {},
   "outputs": [
    {
     "name": "stdout",
     "output_type": "stream",
     "text": [
      "1\n"
     ]
    }
   ],
   "source": [
    "#checking for duplicates\n",
    "print(tips_df.duplicated().sum())"
   ]
  },
  {
   "cell_type": "markdown",
   "id": "fab4165f",
   "metadata": {},
   "source": [
    "#### There is one duplicate in the tips_df and should be removed"
   ]
  },
  {
   "cell_type": "code",
   "execution_count": 12,
   "id": "6825b987",
   "metadata": {},
   "outputs": [],
   "source": [
    "#removing duplicates\n",
    "tips_df = tips_df.drop_duplicates()"
   ]
  },
  {
   "cell_type": "code",
   "execution_count": 13,
   "id": "ec29caaf",
   "metadata": {},
   "outputs": [
    {
     "name": "stdout",
     "output_type": "stream",
     "text": [
      "0\n"
     ]
    }
   ],
   "source": [
    "#checking again for duplicates\n",
    "print(tips_df.duplicated().sum())"
   ]
  },
  {
   "cell_type": "code",
   "execution_count": 14,
   "id": "0b951c88",
   "metadata": {},
   "outputs": [
    {
     "data": {
      "text/html": [
       "<div>\n",
       "<style scoped>\n",
       "    .dataframe tbody tr th:only-of-type {\n",
       "        vertical-align: middle;\n",
       "    }\n",
       "\n",
       "    .dataframe tbody tr th {\n",
       "        vertical-align: top;\n",
       "    }\n",
       "\n",
       "    .dataframe thead th {\n",
       "        text-align: right;\n",
       "    }\n",
       "</style>\n",
       "<table border=\"1\" class=\"dataframe\">\n",
       "  <thead>\n",
       "    <tr style=\"text-align: right;\">\n",
       "      <th></th>\n",
       "      <th>total_bill</th>\n",
       "      <th>tip</th>\n",
       "      <th>size</th>\n",
       "    </tr>\n",
       "  </thead>\n",
       "  <tbody>\n",
       "    <tr>\n",
       "      <th>count</th>\n",
       "      <td>243.000000</td>\n",
       "      <td>243.000000</td>\n",
       "      <td>243.000000</td>\n",
       "    </tr>\n",
       "    <tr>\n",
       "      <th>mean</th>\n",
       "      <td>19.813868</td>\n",
       "      <td>3.002387</td>\n",
       "      <td>2.572016</td>\n",
       "    </tr>\n",
       "    <tr>\n",
       "      <th>std</th>\n",
       "      <td>8.910071</td>\n",
       "      <td>1.385002</td>\n",
       "      <td>0.952356</td>\n",
       "    </tr>\n",
       "    <tr>\n",
       "      <th>min</th>\n",
       "      <td>3.070000</td>\n",
       "      <td>1.000000</td>\n",
       "      <td>1.000000</td>\n",
       "    </tr>\n",
       "    <tr>\n",
       "      <th>25%</th>\n",
       "      <td>13.380000</td>\n",
       "      <td>2.000000</td>\n",
       "      <td>2.000000</td>\n",
       "    </tr>\n",
       "    <tr>\n",
       "      <th>50%</th>\n",
       "      <td>17.810000</td>\n",
       "      <td>2.920000</td>\n",
       "      <td>2.000000</td>\n",
       "    </tr>\n",
       "    <tr>\n",
       "      <th>75%</th>\n",
       "      <td>24.175000</td>\n",
       "      <td>3.575000</td>\n",
       "      <td>3.000000</td>\n",
       "    </tr>\n",
       "    <tr>\n",
       "      <th>max</th>\n",
       "      <td>50.810000</td>\n",
       "      <td>10.000000</td>\n",
       "      <td>6.000000</td>\n",
       "    </tr>\n",
       "  </tbody>\n",
       "</table>\n",
       "</div>"
      ],
      "text/plain": [
       "       total_bill         tip        size\n",
       "count  243.000000  243.000000  243.000000\n",
       "mean    19.813868    3.002387    2.572016\n",
       "std      8.910071    1.385002    0.952356\n",
       "min      3.070000    1.000000    1.000000\n",
       "25%     13.380000    2.000000    2.000000\n",
       "50%     17.810000    2.920000    2.000000\n",
       "75%     24.175000    3.575000    3.000000\n",
       "max     50.810000   10.000000    6.000000"
      ]
     },
     "execution_count": 14,
     "metadata": {},
     "output_type": "execute_result"
    }
   ],
   "source": [
    "#getting the descriptive summary of the tips_df\n",
    "tips_df.describe()"
   ]
  },
  {
   "cell_type": "code",
   "execution_count": 15,
   "id": "e262fc1f",
   "metadata": {},
   "outputs": [
    {
     "name": "stdout",
     "output_type": "stream",
     "text": [
      "<class 'pandas.core.frame.DataFrame'>\n",
      "Index: 243 entries, 0 to 243\n",
      "Data columns (total 7 columns):\n",
      " #   Column      Non-Null Count  Dtype   \n",
      "---  ------      --------------  -----   \n",
      " 0   total_bill  243 non-null    float64 \n",
      " 1   tip         243 non-null    float64 \n",
      " 2   sex         243 non-null    category\n",
      " 3   smoker      243 non-null    category\n",
      " 4   day         243 non-null    category\n",
      " 5   time        243 non-null    category\n",
      " 6   size        243 non-null    int64   \n",
      "dtypes: category(4), float64(2), int64(1)\n",
      "memory usage: 9.1 KB\n"
     ]
    }
   ],
   "source": [
    "#checking basic information about the tips_df\n",
    "tips_df.info()"
   ]
  },
  {
   "cell_type": "code",
   "execution_count": 19,
   "id": "804a65c8",
   "metadata": {},
   "outputs": [],
   "source": [
    "#selecting only numeric columns for statistical calculations\n",
    "numeric_cols = tips_df.select_dtypes(include = ['int64', 'float64'])"
   ]
  },
  {
   "cell_type": "code",
   "execution_count": 31,
   "id": "ace436dc",
   "metadata": {},
   "outputs": [
    {
     "name": "stdout",
     "output_type": "stream",
     "text": [
      "mean:\n",
      " total_bill    19.813868\n",
      "tip            3.002387\n",
      "size           2.572016\n",
      "dtype: float64\n",
      "median:\n",
      " total_bill    17.81\n",
      "tip            2.92\n",
      "size           2.00\n",
      "dtype: float64\n",
      "standard deviation:\n",
      " total_bill    8.910071\n",
      "tip           1.385002\n",
      "size          0.952356\n",
      "dtype: float64\n"
     ]
    }
   ],
   "source": [
    "#calculating the mean, median and standard deviation of the numeric columns\n",
    "print('mean:\\n',numeric_cols.mean())\n",
    "print('median:\\n',numeric_cols.median())\n",
    "print('standard deviation:\\n',numeric_cols.std())"
   ]
  },
  {
   "cell_type": "code",
   "execution_count": 32,
   "id": "2f8ddfa0",
   "metadata": {},
   "outputs": [
    {
     "name": "stdout",
     "output_type": "stream",
     "text": [
      "   total_bill  tip   sex smoker  day    time  size\n",
      "0       13.42  2.0  Male     No  Sat  Dinner     2\n"
     ]
    }
   ],
   "source": [
    "#checking the mode of all colums in the tips_df\n",
    "print(tips_df.mode())"
   ]
  },
  {
   "cell_type": "code",
   "execution_count": 35,
   "id": "2cd0da0f",
   "metadata": {},
   "outputs": [
    {
     "data": {
      "image/png": "[encoded data removed]",
      "text/plain": [
       "<Figure size 640x480 with 1 Axes>"
      ]
     },
     "metadata": {},
     "output_type": "display_data"
    }
   ],
   "source": [
    "#plotting a histogram of total_bill column in the tips_df\n",
    "sns.histplot(tips_df['total_bill'])\n",
    "plt.title('Histogram Of Total Bill')\n",
    "plt.xlabel('Total Bill')\n",
    "plt.show()"
   ]
  },
  {
   "cell_type": "code",
   "execution_count": 36,
   "id": "12e202b4",
   "metadata": {},
   "outputs": [
    {
     "data": {
      "image/png": "[encoded data removed]",
      "text/plain": [
       "<Figure size 640x480 with 1 Axes>"
      ]
     },
     "metadata": {},
     "output_type": "display_data"
    }
   ],
   "source": [
    "#checking for outliers in tip column of the tips_df\n",
    "sns.boxplot(y = tips_df['tip'])\n",
    "plt.title('Boxplot of tips')\n",
    "plt.show()"
   ]
  },
  {
   "cell_type": "markdown",
   "id": "083f7052",
   "metadata": {},
   "source": [
    "#### Wecan further break this down by showing the outliers by day"
   ]
  },
  {
   "cell_type": "code",
   "execution_count": 37,
   "id": "ca2b03f2",
   "metadata": {},
   "outputs": [
    {
     "data": {
      "image/png": "[encoded data removed]",
      "text/plain": [
       "<Figure size 640x480 with 1 Axes>"
      ]
     },
     "metadata": {},
     "output_type": "display_data"
    }
   ],
   "source": [
    "#boxplot of tips by day\n",
    "sns.boxplot(x = 'day',y = 'tip', data = tips_df)\n",
    "plt.title('Boxplot of Tip by Day')\n",
    "plt.show()"
   ]
  },
  {
   "cell_type": "markdown",
   "id": "5cc762e8",
   "metadata": {},
   "source": [
    "### Drawing inferences:\n",
    "### Hypothesis testing\n",
    "#### Testing if there is a significant difference in tip amount among smokers and non smokers using a t test\n",
    "#### Defining null and alternate hypothesis\n",
    "#### Null hypothesis: There is no relationship between smokers and non smokers with regards to tip amount.\n",
    "#### Alternate hypothesis: There is a relationship between smokers and non smokers with regards to tip amount\n",
    "#### Threshold: If p_value is less than 0.5, reject the null hypothesis. Else, do not reject the null hypothesis\n"
   ]
  },
  {
   "cell_type": "code",
   "execution_count": 39,
   "id": "4ce3d9a8",
   "metadata": {},
   "outputs": [],
   "source": [
    "#grouping smokers and non smokers in variables\n",
    "smokers = tips_df[tips_df['smoker'] == 'Yes']['tip']\n",
    "non_smokers = tips_df[tips_df['smoker'] == 'No']['tip']"
   ]
  },
  {
   "cell_type": "code",
   "execution_count": 40,
   "id": "0c133166",
   "metadata": {},
   "outputs": [],
   "source": [
    "#performing a t_test on the two groups\n",
    "t_stat, p_value = stats.ttest_ind(smokers, non_smokers)"
   ]
  },
  {
   "cell_type": "code",
   "execution_count": 41,
   "id": "6d848530",
   "metadata": {},
   "outputs": [
    {
     "name": "stdout",
     "output_type": "stream",
     "text": [
      "t_statistics:  0.15156585951381893\n",
      "p_value:  0.8796561596489987\n"
     ]
    }
   ],
   "source": [
    "#displaying the t_stat and p_value values\n",
    "print('t_statistics: ', t_stat)\n",
    "print('p_value: ', p_value)"
   ]
  },
  {
   "cell_type": "code",
   "execution_count": 42,
   "id": "725dcc1a",
   "metadata": {},
   "outputs": [
    {
     "name": "stdout",
     "output_type": "stream",
     "text": [
      "Do not reject the hypothesis\n"
     ]
    }
   ],
   "source": [
    "#deciding on the hypothesis to work with\n",
    "if p_value < 0.5:\n",
    "    print('Reject the null hypothesis')\n",
    "else:\n",
    "    print('Do not reject the null hypothesis')\n"
   ]
  },
  {
   "cell_type": "markdown",
   "id": "76253798",
   "metadata": {},
   "source": [
    "#### Therefore, the inference drawn here is that, there is no relationship between smokers and non smokers with regards to tip amount"
   ]
  },
  {
   "cell_type": "code",
   "execution_count": null,
   "id": "200bb013",
   "metadata": {},
   "outputs": [],
   "source": []
  }
 ],
 "metadata": {
  "kernelspec": {
   "display_name": "Python 3 (ipykernel)",
   "language": "python",
   "name": "python3"
  },
  "language_info": {
   "codemirror_mode": {
    "name": "ipython",
    "version": 3
   },
   "file_extension": ".py",
   "mimetype": "text/x-python",
   "name": "python",
   "nbconvert_exporter": "python",
   "pygments_lexer": "ipython3",
   "version": "3.11.5"
  }
 },
 "nbformat": 4,
 "nbformat_minor": 5
}
